{
 "cells": [
  {
   "cell_type": "code",
   "execution_count": 1,
   "metadata": {
    "collapsed": true
   },
   "outputs": [],
   "source": [
    "import csv\n",
    "import pandas as pd\n",
    "import matplotlib.pyplot as plt\n",
    "import re\n",
    "import hashlib\n",
    "import numpy as np\n",
    "from matplotlib import rc\n",
    "from ProjectAnalysis import ProjectAnalysis"
   ]
  },
  {
   "cell_type": "code",
   "execution_count": 2,
   "metadata": {
    "collapsed": true
   },
   "outputs": [],
   "source": [
    "common_errors = [\n",
    "    'gradlew: No such file or directory',\n",
    "    'can\\'t read buildSrc/build.gradle: No such file or directory',\n",
    "    '> Could not find (.*)',\n",
    "    'Exception in thread (.+)',\n",
    "    'Execution failed for task (.+)',\n",
    "    'A problem occurred evaluating script',\n",
    "    'unable to resolve class (.+)',\n",
    "]\n",
    "pa = ProjectAnalysis(\"Mockito\",  1)"
   ]
  },
  {
   "cell_type": "code",
   "execution_count": 3,
   "metadata": {},
   "outputs": [
    {
     "data": {
      "text/html": [
       "<div>\n",
       "<style>\n",
       "    .dataframe thead tr:only-child th {\n",
       "        text-align: right;\n",
       "    }\n",
       "\n",
       "    .dataframe thead th {\n",
       "        text-align: left;\n",
       "    }\n",
       "\n",
       "    .dataframe tbody tr th {\n",
       "        vertical-align: top;\n",
       "    }\n",
       "</style>\n",
       "<table border=\"1\" class=\"dataframe\">\n",
       "  <thead>\n",
       "    <tr style=\"text-align: right;\">\n",
       "      <th></th>\n",
       "      <th>id</th>\n",
       "      <th>commit</th>\n",
       "      <th>build</th>\n",
       "      <th>exec_time</th>\n",
       "      <th>comment</th>\n",
       "      <th>fix</th>\n",
       "    </tr>\n",
       "  </thead>\n",
       "  <tbody>\n",
       "    <tr>\n",
       "      <th>0</th>\n",
       "      <td>0</td>\n",
       "      <td>4e9d76078</td>\n",
       "      <td>SUCCESS</td>\n",
       "      <td>58</td>\n",
       "      <td>Fixes #188 : attempt to implement logic for va...</td>\n",
       "      <td>{'lastFix': 'NO'}</td>\n",
       "    </tr>\n",
       "    <tr>\n",
       "      <th>1</th>\n",
       "      <td>1</td>\n",
       "      <td>837fd054a</td>\n",
       "      <td>SUCCESS</td>\n",
       "      <td>5</td>\n",
       "      <td>Fixes #188 : logic reverted to state when Mock...</td>\n",
       "      <td>{'lastFix': 'NO'}</td>\n",
       "    </tr>\n",
       "    <tr>\n",
       "      <th>2</th>\n",
       "      <td>2</td>\n",
       "      <td>144e32d26</td>\n",
       "      <td>SUCCESS</td>\n",
       "      <td>5</td>\n",
       "      <td>Fixes #188 : added test that revealed bug.</td>\n",
       "      <td>{'lastFix': 'NO'}</td>\n",
       "    </tr>\n",
       "    <tr>\n",
       "      <th>3</th>\n",
       "      <td>3</td>\n",
       "      <td>41b184237</td>\n",
       "      <td>SUCCESS</td>\n",
       "      <td>4</td>\n",
       "      <td>Fixes #188 : Cleaned CapturingArgumentsTest a ...</td>\n",
       "      <td>{'lastFix': 'NO'}</td>\n",
       "    </tr>\n",
       "    <tr>\n",
       "      <th>4</th>\n",
       "      <td>4</td>\n",
       "      <td>0cd01b9d9</td>\n",
       "      <td>SUCCESS</td>\n",
       "      <td>5</td>\n",
       "      <td>Merge pull request #219 from SimenB/gitattributes</td>\n",
       "      <td>{'lastFix': 'NO'}</td>\n",
       "    </tr>\n",
       "  </tbody>\n",
       "</table>\n",
       "</div>"
      ],
      "text/plain": [
       "   id     commit    build  exec_time  \\\n",
       "0   0  4e9d76078  SUCCESS         58   \n",
       "1   1  837fd054a  SUCCESS          5   \n",
       "2   2  144e32d26  SUCCESS          5   \n",
       "3   3  41b184237  SUCCESS          4   \n",
       "4   4  0cd01b9d9  SUCCESS          5   \n",
       "\n",
       "                                             comment                fix  \n",
       "0  Fixes #188 : attempt to implement logic for va...  {'lastFix': 'NO'}  \n",
       "1  Fixes #188 : logic reverted to state when Mock...  {'lastFix': 'NO'}  \n",
       "2         Fixes #188 : added test that revealed bug.  {'lastFix': 'NO'}  \n",
       "3  Fixes #188 : Cleaned CapturingArgumentsTest a ...  {'lastFix': 'NO'}  \n",
       "4  Merge pull request #219 from SimenB/gitattributes  {'lastFix': 'NO'}  "
      ]
     },
     "execution_count": 3,
     "metadata": {},
     "output_type": "execute_result"
    }
   ],
   "source": [
    "pa.df().head()"
   ]
  },
  {
   "cell_type": "markdown",
   "metadata": {},
   "source": [
    "## Calculate the number of builds of each type"
   ]
  },
  {
   "cell_type": "code",
   "execution_count": 4,
   "metadata": {},
   "outputs": [
    {
     "data": {
      "text/plain": [
       "id           538\n",
       "commit       538\n",
       "build        538\n",
       "exec_time    538\n",
       "comment      538\n",
       "fix          538\n",
       "dtype: int64"
      ]
     },
     "execution_count": 4,
     "metadata": {},
     "output_type": "execute_result"
    }
   ],
   "source": [
    "pa.df()[(pa.df()['build'] == 'SUCCESS')].count()"
   ]
  },
  {
   "cell_type": "code",
   "execution_count": 5,
   "metadata": {},
   "outputs": [
    {
     "data": {
      "text/plain": [
       "id           2101\n",
       "commit       2101\n",
       "build        2101\n",
       "exec_time    2101\n",
       "comment      2101\n",
       "fix          2101\n",
       "dtype: int64"
      ]
     },
     "execution_count": 5,
     "metadata": {},
     "output_type": "execute_result"
    }
   ],
   "source": [
    "pa.df()[(pa.df()['build'] == 'FAIL')].count()"
   ]
  },
  {
   "cell_type": "code",
   "execution_count": 6,
   "metadata": {},
   "outputs": [
    {
     "data": {
      "image/png": "[encoded data removed]",
      "text/plain": [
       "<matplotlib.figure.Figure at 0x7f9b855139b0>"
      ]
     },
     "metadata": {},
     "output_type": "display_data"
    }
   ],
   "source": [
    "pa.plot_and_save_histogram(1)"
   ]
  },
  {
   "cell_type": "markdown",
   "metadata": {},
   "source": [
    "## Recogemos todos los fails, los separamos en grupos y obtenemos los logs de cada commit con build fail"
   ]
  },
  {
   "cell_type": "code",
   "execution_count": 7,
   "metadata": {
    "collapsed": true
   },
   "outputs": [],
   "source": [
    "fails, groups_of_fails = pa.get_fails_and_grouped_fails()"
   ]
  },
  {
   "cell_type": "markdown",
   "metadata": {},
   "source": [
    "## Agrupamos los commits por sus logs"
   ]
  },
  {
   "cell_type": "code",
   "execution_count": 8,
   "metadata": {
    "collapsed": true
   },
   "outputs": [],
   "source": [
    "errors = pa.group_errors_by_log(fails, common_errors)"
   ]
  },
  {
   "cell_type": "code",
   "execution_count": 9,
   "metadata": {},
   "outputs": [
    {
     "data": {
      "text/html": [
       "<div>\n",
       "<style>\n",
       "    .dataframe thead tr:only-child th {\n",
       "        text-align: right;\n",
       "    }\n",
       "\n",
       "    .dataframe thead th {\n",
       "        text-align: left;\n",
       "    }\n",
       "\n",
       "    .dataframe tbody tr th {\n",
       "        vertical-align: top;\n",
       "    }\n",
       "</style>\n",
       "<table border=\"1\" class=\"dataframe\">\n",
       "  <thead>\n",
       "    <tr style=\"text-align: right;\">\n",
       "      <th></th>\n",
       "      <th></th>\n",
       "      <th>count</th>\n",
       "    </tr>\n",
       "    <tr>\n",
       "      <th>key</th>\n",
       "      <th>trace</th>\n",
       "      <th></th>\n",
       "    </tr>\n",
       "  </thead>\n",
       "  <tbody>\n",
       "    <tr>\n",
       "      <th>ccdb01712ea99a72ad11e3dc5e165303</th>\n",
       "      <th>gradlew: No such file or directory</th>\n",
       "      <td>1622</td>\n",
       "    </tr>\n",
       "    <tr>\n",
       "      <th>a254ff36f6608af906c6b5e4e7ddb8b4</th>\n",
       "      <th>can't read buildSrc/build.gradle: No such file or directory</th>\n",
       "      <td>440</td>\n",
       "    </tr>\n",
       "    <tr>\n",
       "      <th>b1c3a9d17cbf10dca660db9bd557f14b</th>\n",
       "      <th>&gt; Could not find net.bytebuddy:byte-buddy:0.2.0.</th>\n",
       "      <td>14</td>\n",
       "    </tr>\n",
       "    <tr>\n",
       "      <th>0594fdf03d8d3863dea449a3cd757a1b</th>\n",
       "      <th>A problem occurred evaluating script</th>\n",
       "      <td>9</td>\n",
       "    </tr>\n",
       "    <tr>\n",
       "      <th>bab99632d8032cf44a63b74974c880ee</th>\n",
       "      <th>Execution failed for task ':jar'.</th>\n",
       "      <td>6</td>\n",
       "    </tr>\n",
       "    <tr>\n",
       "      <th>6d7118d1d7d09430772279885001c4d5</th>\n",
       "      <th>Execution failed for task ':compileGroovy'.</th>\n",
       "      <td>4</td>\n",
       "    </tr>\n",
       "    <tr>\n",
       "      <th>4effca87e222b864fc3aff5de2976dd1</th>\n",
       "      <th>Execution failed for task ':compileJava'.</th>\n",
       "      <td>3</td>\n",
       "    </tr>\n",
       "    <tr>\n",
       "      <th>f9d727cb95f73cbd20ee6fd3ef6714aa</th>\n",
       "      <th>unable to resolve class ReleaseNotesServices</th>\n",
       "      <td>2</td>\n",
       "    </tr>\n",
       "    <tr>\n",
       "      <th>fa5dfe1357b212b35aba8ae5e1ca662a</th>\n",
       "      <th>&gt; Could not find property 'PublicationsComparatorTask' on root project 'mockito'.</th>\n",
       "      <td>1</td>\n",
       "    </tr>\n",
       "  </tbody>\n",
       "</table>\n",
       "</div>"
      ],
      "text/plain": [
       "                                                                                     count\n",
       "key                              trace                                                    \n",
       "ccdb01712ea99a72ad11e3dc5e165303 gradlew: No such file or directory                   1622\n",
       "a254ff36f6608af906c6b5e4e7ddb8b4 can't read buildSrc/build.gradle: No such file ...    440\n",
       "b1c3a9d17cbf10dca660db9bd557f14b > Could not find net.bytebuddy:byte-buddy:0.2.0.       14\n",
       "0594fdf03d8d3863dea449a3cd757a1b A problem occurred evaluating script                    9\n",
       "bab99632d8032cf44a63b74974c880ee Execution failed for task ':jar'.                       6\n",
       "6d7118d1d7d09430772279885001c4d5 Execution failed for task ':compileGroovy'.             4\n",
       "4effca87e222b864fc3aff5de2976dd1 Execution failed for task ':compileJava'.               3\n",
       "f9d727cb95f73cbd20ee6fd3ef6714aa unable to resolve class ReleaseNotesServices            2\n",
       "fa5dfe1357b212b35aba8ae5e1ca662a > Could not find property 'PublicationsComparat...      1"
      ]
     },
     "execution_count": 9,
     "metadata": {},
     "output_type": "execute_result"
    }
   ],
   "source": [
    "df = pd.DataFrame.from_dict(errors, orient='index')\n",
    "df=df.groupby(['key','trace']).agg({'count': 'sum'}).sort_values(by=['count'], ascending=False)\n",
    "df.to_csv(\"%s_errors.csv\"%pa.project, sep='\\t', encoding='utf-8')\n",
    "df"
   ]
  },
  {
   "cell_type": "code",
   "execution_count": 10,
   "metadata": {},
   "outputs": [
    {
     "name": "stdout",
     "output_type": "stream",
     "text": [
      "Total commits: 2 | Current commit: fae96f44a | Log: \n",
      "\n",
      "Parallel execution is an incubating feature.\n",
      ":buildSrc:clean UP-TO-DATE\n",
      ":buildSrc:compileJava UP-TO-DATE\n",
      ":buildSrc:compileGroovyNote: /bugs/projects/Mockito/buildSrc/src/main/groovy/org/mockito/release/comparison/ZipCompare.java uses unchecked or unsafe operations.\n",
      "Note: Recompile with -Xlint:unchecked for details.\n",
      "\n",
      ":buildSrc:processResources UP-TO-DATE\n",
      ":buildSrc:classes\n",
      ":buildSrc:jar\n",
      ":buildSrc:assemble\n",
      ":buildSrc:compileTestJava UP-TO-DATE\n",
      ":buildSrc:compileTestGroovy UP-TO-DATE\n",
      ":buildSrc:processTestResources UP-TO-DATE\n",
      ":buildSrc:testClasses UP-TO-DATE\n",
      ":buildSrc:test UP-TO-DATE\n",
      ":buildSrc:check UP-TO-DATE\n",
      ":buildSrc:build\n",
      "Version: 1.10.13\n",
      "\n",
      "FAILURE: Build failed with an exception.\n",
      "\n",
      "* Where:\n",
      "Script '/bugs/projects/Mockito/gradle/release-notes.gradle' line: 17\n",
      "\n",
      "* What went wrong:\n",
      "Could not compile script '/bugs/projects/Mockito/gradle/release-notes.gradle'.\n",
      "> startup failed:\n",
      "  script '/bugs/projects/Mockito/gradle/release-notes.gradle': 17: unable to resolve class ReleaseNotesServices \n",
      "   @ line 17, column 12.\n",
      "         return new ReleaseNotesServices(project).getPreviousVersionProvider(notesFile).getPreviousVersion()\n",
      "                ^\n",
      "  \n",
      "  script '/bugs/projects/Mockito/gradle/release-notes.gradle': 4: unable to resolve class ReleaseNotesServices \n",
      "   @ line 4, column 5.\n",
      "         new ReleaseNotesServices(project)\n",
      "         ^\n",
      "  \n",
      "  2 errors\n",
      "\n",
      "\n",
      "* Try:\n",
      "Run with --stacktrace option to get the stack trace. Run with --info or --debug option to get more log output.\n",
      "\n",
      "BUILD FAILED\n",
      "\n",
      "Total time: 2.425 secs\n",
      " \n"
     ]
    }
   ],
   "source": [
    "pa.view_log_by_hash(errors,'f9d727cb95f73cbd20ee6fd3ef6714aa', 0)"
   ]
  },
  {
   "cell_type": "code",
   "execution_count": 11,
   "metadata": {},
   "outputs": [
    {
     "name": "stdout",
     "output_type": "stream",
     "text": [
      "Saved at '../Mockito/experiment_1/success_commits.txt'\n"
     ]
    }
   ],
   "source": [
    "pa.save_success_commits()"
   ]
  }
 ],
 "metadata": {
  "kernelspec": {
   "display_name": "Python 3",
   "language": "python",
   "name": "python3"
  },
  "language_info": {
   "codemirror_mode": {
    "name": "ipython",
    "version": 3
   },
   "file_extension": ".py",
   "mimetype": "text/x-python",
   "name": "python",
   "nbconvert_exporter": "python",
   "pygments_lexer": "ipython3",
   "version": "3.6.2"
  }
 },
 "nbformat": 4,
 "nbformat_minor": 2
}
