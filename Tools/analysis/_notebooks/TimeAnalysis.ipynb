{
 "cells": [
  {
   "cell_type": "code",
   "execution_count": 1,
   "metadata": {
    "collapsed": true
   },
   "outputs": [],
   "source": [
    "import csv\n",
    "import pandas as pd\n",
    "import matplotlib.pyplot as plt\n",
    "import re\n",
    "import hashlib\n",
    "import numpy as np\n",
    "from matplotlib import rc\n",
    "from ProjectAnalysis import ProjectAnalysis"
   ]
  },
  {
   "cell_type": "code",
   "execution_count": 2,
   "metadata": {
    "collapsed": true
   },
   "outputs": [],
   "source": [
    "common_errors = [\n",
    "    'there is no POM in this directory',\n",
    "]\n",
    "pa = ProjectAnalysis(\"Time\",  1)"
   ]
  },
  {
   "cell_type": "code",
   "execution_count": 3,
   "metadata": {},
   "outputs": [
    {
     "data": {
      "text/html": [
       "<div>\n",
       "<style>\n",
       "    .dataframe thead tr:only-child th {\n",
       "        text-align: right;\n",
       "    }\n",
       "\n",
       "    .dataframe thead th {\n",
       "        text-align: left;\n",
       "    }\n",
       "\n",
       "    .dataframe tbody tr th {\n",
       "        vertical-align: top;\n",
       "    }\n",
       "</style>\n",
       "<table border=\"1\" class=\"dataframe\">\n",
       "  <thead>\n",
       "    <tr style=\"text-align: right;\">\n",
       "      <th></th>\n",
       "      <th>id</th>\n",
       "      <th>commit</th>\n",
       "      <th>build</th>\n",
       "      <th>exec_time</th>\n",
       "      <th>comment</th>\n",
       "      <th>fix</th>\n",
       "    </tr>\n",
       "  </thead>\n",
       "  <tbody>\n",
       "    <tr>\n",
       "      <th>0</th>\n",
       "      <td>0</td>\n",
       "      <td>9a62b06b</td>\n",
       "      <td>SUCCESS</td>\n",
       "      <td>12</td>\n",
       "      <td>Fix NPE in Partial.with()</td>\n",
       "      <td>{}</td>\n",
       "    </tr>\n",
       "    <tr>\n",
       "      <th>1</th>\n",
       "      <td>1</td>\n",
       "      <td>8612f9e5</td>\n",
       "      <td>SUCCESS</td>\n",
       "      <td>11</td>\n",
       "      <td>Fix NPE in Partial.with()</td>\n",
       "      <td>{}</td>\n",
       "    </tr>\n",
       "    <tr>\n",
       "      <th>2</th>\n",
       "      <td>2</td>\n",
       "      <td>8d109fe1</td>\n",
       "      <td>SUCCESS</td>\n",
       "      <td>12</td>\n",
       "      <td>Adding zero no longer changes the offset durin...</td>\n",
       "      <td>{}</td>\n",
       "    </tr>\n",
       "    <tr>\n",
       "      <th>3</th>\n",
       "      <td>3</td>\n",
       "      <td>3ba9ba79</td>\n",
       "      <td>SUCCESS</td>\n",
       "      <td>12</td>\n",
       "      <td>Prevent creation of invalid partials via Parti...</td>\n",
       "      <td>{}</td>\n",
       "    </tr>\n",
       "    <tr>\n",
       "      <th>4</th>\n",
       "      <td>4</td>\n",
       "      <td>bcb04466</td>\n",
       "      <td>SUCCESS</td>\n",
       "      <td>12</td>\n",
       "      <td>Fix NPE in DateTimeUtils.isContiguous with wei...</td>\n",
       "      <td>{}</td>\n",
       "    </tr>\n",
       "  </tbody>\n",
       "</table>\n",
       "</div>"
      ],
      "text/plain": [
       "   id    commit    build  exec_time  \\\n",
       "0   0  9a62b06b  SUCCESS         12   \n",
       "1   1  8612f9e5  SUCCESS         11   \n",
       "2   2  8d109fe1  SUCCESS         12   \n",
       "3   3  3ba9ba79  SUCCESS         12   \n",
       "4   4  bcb04466  SUCCESS         12   \n",
       "\n",
       "                                             comment fix  \n",
       "0                          Fix NPE in Partial.with()  {}  \n",
       "1                          Fix NPE in Partial.with()  {}  \n",
       "2  Adding zero no longer changes the offset durin...  {}  \n",
       "3  Prevent creation of invalid partials via Parti...  {}  \n",
       "4  Fix NPE in DateTimeUtils.isContiguous with wei...  {}  "
      ]
     },
     "execution_count": 3,
     "metadata": {},
     "output_type": "execute_result"
    }
   ],
   "source": [
    "pa.df().head()"
   ]
  },
  {
   "cell_type": "markdown",
   "metadata": {},
   "source": [
    "## Calculate the number of builds of each type"
   ]
  },
  {
   "cell_type": "code",
   "execution_count": 4,
   "metadata": {},
   "outputs": [
    {
     "data": {
      "text/plain": [
       "id           224\n",
       "commit       224\n",
       "build        224\n",
       "exec_time    224\n",
       "comment      224\n",
       "fix          224\n",
       "dtype: int64"
      ]
     },
     "execution_count": 4,
     "metadata": {},
     "output_type": "execute_result"
    }
   ],
   "source": [
    "pa.df()[(pa.df()['build'] == 'SUCCESS')].count()"
   ]
  },
  {
   "cell_type": "code",
   "execution_count": 5,
   "metadata": {},
   "outputs": [
    {
     "data": {
      "text/plain": [
       "id           1493\n",
       "commit       1493\n",
       "build        1493\n",
       "exec_time    1493\n",
       "comment      1493\n",
       "fix          1493\n",
       "dtype: int64"
      ]
     },
     "execution_count": 5,
     "metadata": {},
     "output_type": "execute_result"
    }
   ],
   "source": [
    "pa.df()[(pa.df()['build'] == 'FAIL')].count()"
   ]
  },
  {
   "cell_type": "code",
   "execution_count": 6,
   "metadata": {},
   "outputs": [
    {
     "data": {
      "image/png": "[encoded data removed]",
      "text/plain": [
       "<matplotlib.figure.Figure at 0x7f60d0617d68>"
      ]
     },
     "metadata": {},
     "output_type": "display_data"
    }
   ],
   "source": [
    "pa.plot_and_save_histogram(1)"
   ]
  },
  {
   "cell_type": "markdown",
   "metadata": {},
   "source": [
    "## We collect all the fails, separate them in groups and obtain the logs of each commit for failed builds"
   ]
  },
  {
   "cell_type": "code",
   "execution_count": 7,
   "metadata": {
    "collapsed": true
   },
   "outputs": [],
   "source": [
    "fails, groups_of_fails = pa.get_fails_and_grouped_fails()"
   ]
  },
  {
   "cell_type": "code",
   "execution_count": 8,
   "metadata": {
    "collapsed": true
   },
   "outputs": [],
   "source": [
    "errors = pa.group_errors_by_log(fails, common_errors)"
   ]
  },
  {
   "cell_type": "code",
   "execution_count": 9,
   "metadata": {},
   "outputs": [
    {
     "data": {
      "text/html": [
       "<div>\n",
       "<style>\n",
       "    .dataframe thead tr:only-child th {\n",
       "        text-align: right;\n",
       "    }\n",
       "\n",
       "    .dataframe thead th {\n",
       "        text-align: left;\n",
       "    }\n",
       "\n",
       "    .dataframe tbody tr th {\n",
       "        vertical-align: top;\n",
       "    }\n",
       "</style>\n",
       "<table border=\"1\" class=\"dataframe\">\n",
       "  <thead>\n",
       "    <tr style=\"text-align: right;\">\n",
       "      <th></th>\n",
       "      <th></th>\n",
       "      <th>count</th>\n",
       "    </tr>\n",
       "    <tr>\n",
       "      <th>key</th>\n",
       "      <th>trace</th>\n",
       "      <th></th>\n",
       "    </tr>\n",
       "  </thead>\n",
       "  <tbody>\n",
       "    <tr>\n",
       "      <th>25fe7d356a79255e6eb2a6bca03a5f19</th>\n",
       "      <th>there is no POM in this directory</th>\n",
       "      <td>1493</td>\n",
       "    </tr>\n",
       "  </tbody>\n",
       "</table>\n",
       "</div>"
      ],
      "text/plain": [
       "                                                                    count\n",
       "key                              trace                                   \n",
       "25fe7d356a79255e6eb2a6bca03a5f19 there is no POM in this directory   1493"
      ]
     },
     "execution_count": 9,
     "metadata": {},
     "output_type": "execute_result"
    }
   ],
   "source": [
    "df = pd.DataFrame.from_dict(errors, orient='index')\n",
    "df=df.groupby(['key','trace']).agg({'count': 'sum'}).sort_values(by=['count'], ascending=False)\n",
    "df.to_csv(\"%s_errors.csv\"%pa.project, sep='\\t', encoding='utf-8')\n",
    "df"
   ]
  },
  {
   "cell_type": "code",
   "execution_count": 10,
   "metadata": {},
   "outputs": [
    {
     "name": "stdout",
     "output_type": "stream",
     "text": [
      "Total commits: 1493 | Current commit: 72b22654 | Log: \n",
      "\n",
      "[\u001b[1;34mINFO\u001b[m] Scanning for projects...\n",
      "[\u001b[1;34mINFO\u001b[m] \u001b[1m------------------------------------------------------------------------\u001b[m\n",
      "[\u001b[1;34mINFO\u001b[m] \u001b[1;31mBUILD FAILURE\u001b[m\n",
      "[\u001b[1;34mINFO\u001b[m] \u001b[1m------------------------------------------------------------------------\u001b[m\n",
      "[\u001b[1;34mINFO\u001b[m] Total time: 0.073 s\n",
      "[\u001b[1;34mINFO\u001b[m] Finished at: 2019-01-14T14:33:54+01:00\n",
      "[\u001b[1;34mINFO\u001b[m] Final Memory: 8M/303M\n",
      "[\u001b[1;34mINFO\u001b[m] \u001b[1m------------------------------------------------------------------------\u001b[m\n",
      "[\u001b[1;31mERROR\u001b[m] The goal you specified requires a project to execute but there is no POM in this directory (/home/michel/Investigacion/bugs/projects/Time). Please verify you invoked Maven from the correct directory. -> \u001b[1m[Help 1]\u001b[m\n",
      "[\u001b[1;31mERROR\u001b[m] \n",
      "[\u001b[1;31mERROR\u001b[m] To see the full stack trace of the errors, re-run Maven with the \u001b[1m-e\u001b[m switch.\n",
      "[\u001b[1;31mERROR\u001b[m] Re-run Maven using the \u001b[1m-X\u001b[m switch to enable full debug logging.\n",
      "[\u001b[1;31mERROR\u001b[m] \n",
      "[\u001b[1;31mERROR\u001b[m] For more information about the errors and possible solutions, please read the following articles:\n",
      "[\u001b[1;31mERROR\u001b[m] \u001b[1m[Help 1]\u001b[m http://cwiki.apache.org/confluence/display/MAVEN/MissingProjectException\n",
      " \n"
     ]
    }
   ],
   "source": [
    "pa.view_log_by_hash(errors,'25fe7d356a79255e6eb2a6bca03a5f19', 0)"
   ]
  },
  {
   "cell_type": "code",
   "execution_count": 11,
   "metadata": {},
   "outputs": [
    {
     "name": "stdout",
     "output_type": "stream",
     "text": [
      "Saved at '../Time/experiment_1/success_commits.txt'\n"
     ]
    }
   ],
   "source": [
    "pa.save_success_commits()"
   ]
  }
 ],
 "metadata": {
  "kernelspec": {
   "display_name": "Python 3",
   "language": "python",
   "name": "python3"
  },
  "language_info": {
   "codemirror_mode": {
    "name": "ipython",
    "version": 3
   },
   "file_extension": ".py",
   "mimetype": "text/x-python",
   "name": "python",
   "nbconvert_exporter": "python",
   "pygments_lexer": "ipython3",
   "version": "3.6.2"
  }
 },
 "nbformat": 4,
 "nbformat_minor": 2
}
