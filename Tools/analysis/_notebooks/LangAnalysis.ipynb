{
 "cells": [
  {
   "cell_type": "code",
   "execution_count": 1,
   "metadata": {
    "collapsed": true
   },
   "outputs": [],
   "source": [
    "import csv\n",
    "import pandas as pd\n",
    "import matplotlib.pyplot as plt\n",
    "import re\n",
    "import hashlib\n",
    "import numpy as np\n",
    "from matplotlib import rc\n",
    "from ProjectAnalysis import ProjectAnalysis"
   ]
  },
  {
   "cell_type": "code",
   "execution_count": 2,
   "metadata": {
    "collapsed": true
   },
   "outputs": [],
   "source": [
    "common_errors = [\n",
    "    'error: (.+)\\n(.+)',\n",
    "    'Non-resolvable parent POM',\n",
    "    #'\\[ERROR\\] (.+)\\n(.+)',\n",
    "    'there is no POM in this directory',\n",
    "    'unmappable character for encoding UTF8',\n",
    "    \n",
    "]\n",
    "pa = ProjectAnalysis(\"Lang\",  1)"
   ]
  },
  {
   "cell_type": "code",
   "execution_count": 3,
   "metadata": {},
   "outputs": [
    {
     "data": {
      "text/html": [
       "<div>\n",
       "<style>\n",
       "    .dataframe thead tr:only-child th {\n",
       "        text-align: right;\n",
       "    }\n",
       "\n",
       "    .dataframe thead th {\n",
       "        text-align: left;\n",
       "    }\n",
       "\n",
       "    .dataframe tbody tr th {\n",
       "        vertical-align: top;\n",
       "    }\n",
       "</style>\n",
       "<table border=\"1\" class=\"dataframe\">\n",
       "  <thead>\n",
       "    <tr style=\"text-align: right;\">\n",
       "      <th></th>\n",
       "      <th>id</th>\n",
       "      <th>commit</th>\n",
       "      <th>build</th>\n",
       "      <th>exec_time</th>\n",
       "      <th>comment</th>\n",
       "      <th>fix</th>\n",
       "    </tr>\n",
       "  </thead>\n",
       "  <tbody>\n",
       "    <tr>\n",
       "      <th>0</th>\n",
       "      <td>0</td>\n",
       "      <td>687b2e62</td>\n",
       "      <td>SUCCESS</td>\n",
       "      <td>4</td>\n",
       "      <td>LANG-747 NumberUtils does not handle Long Hex ...</td>\n",
       "      <td>{'lastFix': 'NO'}</td>\n",
       "    </tr>\n",
       "    <tr>\n",
       "      <th>1</th>\n",
       "      <td>1</td>\n",
       "      <td>2c454a4c</td>\n",
       "      <td>SUCCESS</td>\n",
       "      <td>4</td>\n",
       "      <td>LANG-837 Add ObjectUtils.toIdentityString meth...</td>\n",
       "      <td>{'lastFix': 'NO'}</td>\n",
       "    </tr>\n",
       "    <tr>\n",
       "      <th>2</th>\n",
       "      <td>2</td>\n",
       "      <td>47d59745</td>\n",
       "      <td>SUCCESS</td>\n",
       "      <td>5</td>\n",
       "      <td>short circuit (un)capitalize if string is alre...</td>\n",
       "      <td>{'lastFix': 'NO'}</td>\n",
       "    </tr>\n",
       "    <tr>\n",
       "      <th>3</th>\n",
       "      <td>3</td>\n",
       "      <td>6b5acb4b</td>\n",
       "      <td>SUCCESS</td>\n",
       "      <td>4</td>\n",
       "      <td>Add tests for new Javadoc examples</td>\n",
       "      <td>{'lastFix': 'NO'}</td>\n",
       "    </tr>\n",
       "    <tr>\n",
       "      <th>4</th>\n",
       "      <td>4</td>\n",
       "      <td>de63ae7c</td>\n",
       "      <td>SUCCESS</td>\n",
       "      <td>5</td>\n",
       "      <td>Clarify Javadoc</td>\n",
       "      <td>{'lastFix': 'NO'}</td>\n",
       "    </tr>\n",
       "  </tbody>\n",
       "</table>\n",
       "</div>"
      ],
      "text/plain": [
       "   id    commit    build  exec_time  \\\n",
       "0   0  687b2e62  SUCCESS          4   \n",
       "1   1  2c454a4c  SUCCESS          4   \n",
       "2   2  47d59745  SUCCESS          5   \n",
       "3   3  6b5acb4b  SUCCESS          4   \n",
       "4   4  de63ae7c  SUCCESS          5   \n",
       "\n",
       "                                             comment                fix  \n",
       "0  LANG-747 NumberUtils does not handle Long Hex ...  {'lastFix': 'NO'}  \n",
       "1  LANG-837 Add ObjectUtils.toIdentityString meth...  {'lastFix': 'NO'}  \n",
       "2  short circuit (un)capitalize if string is alre...  {'lastFix': 'NO'}  \n",
       "3                 Add tests for new Javadoc examples  {'lastFix': 'NO'}  \n",
       "4                                    Clarify Javadoc  {'lastFix': 'NO'}  "
      ]
     },
     "execution_count": 3,
     "metadata": {},
     "output_type": "execute_result"
    }
   ],
   "source": [
    "pa.df().head()"
   ]
  },
  {
   "cell_type": "markdown",
   "metadata": {},
   "source": [
    "## Calculate the number of builds of each type"
   ]
  },
  {
   "cell_type": "code",
   "execution_count": 4,
   "metadata": {},
   "outputs": [
    {
     "data": {
      "text/plain": [
       "id           1897\n",
       "commit       1897\n",
       "build        1897\n",
       "exec_time    1897\n",
       "comment      1897\n",
       "fix          1897\n",
       "dtype: int64"
      ]
     },
     "execution_count": 4,
     "metadata": {},
     "output_type": "execute_result"
    }
   ],
   "source": [
    "pa.df()[(pa.df()['build'] == 'SUCCESS')].count()"
   ]
  },
  {
   "cell_type": "code",
   "execution_count": 5,
   "metadata": {},
   "outputs": [
    {
     "data": {
      "text/plain": [
       "id           1673\n",
       "commit       1673\n",
       "build        1673\n",
       "exec_time    1673\n",
       "comment      1673\n",
       "fix          1673\n",
       "dtype: int64"
      ]
     },
     "execution_count": 5,
     "metadata": {},
     "output_type": "execute_result"
    }
   ],
   "source": [
    "pa.df()[(pa.df()['build'] == 'FAIL')].count()"
   ]
  },
  {
   "cell_type": "code",
   "execution_count": 6,
   "metadata": {},
   "outputs": [
    {
     "data": {
      "image/png": "[encoded data removed]",
      "text/plain": [
       "<matplotlib.figure.Figure at 0x7f41b412d7b8>"
      ]
     },
     "metadata": {},
     "output_type": "display_data"
    }
   ],
   "source": [
    "pa.plot_and_save_histogram(1)"
   ]
  },
  {
   "cell_type": "markdown",
   "metadata": {},
   "source": [
    "## Recogemos todos los fails, los separamos en grupos y obtenemos los logs de cada commit con build fail"
   ]
  },
  {
   "cell_type": "code",
   "execution_count": 7,
   "metadata": {
    "collapsed": true
   },
   "outputs": [],
   "source": [
    "fails, groups_of_fails = pa.get_fails_and_grouped_fails()"
   ]
  },
  {
   "cell_type": "markdown",
   "metadata": {},
   "source": [
    "## Agrupamos los commits por sus logs"
   ]
  },
  {
   "cell_type": "code",
   "execution_count": 8,
   "metadata": {
    "collapsed": true
   },
   "outputs": [],
   "source": [
    "errors = pa.group_errors_by_log(fails, common_errors)"
   ]
  },
  {
   "cell_type": "code",
   "execution_count": 9,
   "metadata": {},
   "outputs": [
    {
     "data": {
      "text/html": [
       "<div>\n",
       "<style>\n",
       "    .dataframe thead tr:only-child th {\n",
       "        text-align: right;\n",
       "    }\n",
       "\n",
       "    .dataframe thead th {\n",
       "        text-align: left;\n",
       "    }\n",
       "\n",
       "    .dataframe tbody tr th {\n",
       "        vertical-align: top;\n",
       "    }\n",
       "</style>\n",
       "<table border=\"1\" class=\"dataframe\">\n",
       "  <thead>\n",
       "    <tr style=\"text-align: right;\">\n",
       "      <th></th>\n",
       "      <th></th>\n",
       "      <th>count</th>\n",
       "    </tr>\n",
       "    <tr>\n",
       "      <th>key</th>\n",
       "      <th>trace</th>\n",
       "      <th></th>\n",
       "    </tr>\n",
       "  </thead>\n",
       "  <tbody>\n",
       "    <tr>\n",
       "      <th>25fe7d356a79255e6eb2a6bca03a5f19</th>\n",
       "      <th>there is no POM in this directory</th>\n",
       "      <td>1524</td>\n",
       "    </tr>\n",
       "    <tr>\n",
       "      <th>88285ac47cdb7e113b1700f6cd0d94d5</th>\n",
       "      <th>error: as of release 5, 'enum' is a keyword, and may not be used as an identifier [ERROR]   (use -source 1.4 or lower to use 'enum' as an identifier)</th>\n",
       "      <td>109</td>\n",
       "    </tr>\n",
       "    <tr>\n",
       "      <th>e7085f728993a692444fe313543c4cf8</th>\n",
       "      <th>error: cannot find symbol [ERROR]</th>\n",
       "      <td>20</td>\n",
       "    </tr>\n",
       "    <tr>\n",
       "      <th>1b547b59cce8170360f7b25b254cde67</th>\n",
       "      <th>Non-resolvable parent POM</th>\n",
       "      <td>5</td>\n",
       "    </tr>\n",
       "    <tr>\n",
       "      <th>312e7e051d00442fdf088e171c481c7f</th>\n",
       "      <th>error: incompatible types [ERROR] -&gt; [Help 1]</th>\n",
       "      <td>2</td>\n",
       "    </tr>\n",
       "    <tr>\n",
       "      <th>6647b25369208cc6c48dd771f3d78b0b</th>\n",
       "      <th>error: IDKey is not public in org.apache.commons.lang; cannot be accessed from outside package [ERROR]</th>\n",
       "      <td>2</td>\n",
       "    </tr>\n",
       "    <tr>\n",
       "      <th>a17786c3607dbaaee9f01618604fb6d2</th>\n",
       "      <th>error: variable options might not have been initialized [ERROR] -&gt; [Help 1]</th>\n",
       "      <td>2</td>\n",
       "    </tr>\n",
       "    <tr>\n",
       "      <th>e36f2da2fd1c72697920f95833010bb0</th>\n",
       "      <th>error: cannot find symbol [ERROR] -&gt; [Help 1]</th>\n",
       "      <td>2</td>\n",
       "    </tr>\n",
       "    <tr>\n",
       "      <th>00d85ec1281dd9783b78706534db449e</th>\n",
       "      <th>error: reached end of file while parsing [ERROR] -&gt; [Help 1]</th>\n",
       "      <td>1</td>\n",
       "    </tr>\n",
       "    <tr>\n",
       "      <th>0d6862c3387dae1ba0a463bb424bbd93</th>\n",
       "      <th>[INFO] Scanning for projects... [ERROR] The build could not read 1 project -&gt; [Help 1] [ERROR]    [ERROR]   The project  (/bugs/projects/Lang/pom.xml) has 1 error [ERROR]     Non-parseable POM /bugs/projects/Lang/pom.xml: only whitespace content allowed before start tag and not p (position: START_DOCUMENT seen ... governing permissions and\\n   limitations under the License.\\n--&gt;\\np... @18:2)  @ line 18, column 2 -&gt; [Help 2] [ERROR]  [ERROR] To see the full stack trace of the errors, re-run Maven with the -e switch. [ERROR] Re-run Maven using the -X switch to enable full debug logging. [ERROR]  [ERROR] For more information about the errors and possible solutions, please read the following articles: [ERROR] [Help 1] http://cwiki.apache.org/confluence/display/MAVEN/ProjectBuildingException [ERROR] [Help 2] http://cwiki.apache.org/confluence/display/MAVEN/ModelParseException</th>\n",
       "      <td>1</td>\n",
       "    </tr>\n",
       "    <tr>\n",
       "      <th>260e3e29e7b2adfb327e5c2a5db5a480</th>\n",
       "      <th>error: incomparable types: int and &lt;null&gt; [ERROR]</th>\n",
       "      <td>1</td>\n",
       "    </tr>\n",
       "    <tr>\n",
       "      <th>3e81007975999a8cfc8705c049c2f71e</th>\n",
       "      <th>error: package org.apache.commons.collections.comparators does not exist [ERROR]</th>\n",
       "      <td>1</td>\n",
       "    </tr>\n",
       "    <tr>\n",
       "      <th>418e94129a0ab79bcf41adea7b89e4e7</th>\n",
       "      <th>error: cannot find symbol [INFO] 1 error</th>\n",
       "      <td>1</td>\n",
       "    </tr>\n",
       "    <tr>\n",
       "      <th>46f8db213cd278616ea61ec0bb0aa134</th>\n",
       "      <th>[INFO] Scanning for projects... [ERROR] The build could not read 1 project -&gt; [Help 1] [ERROR]    [ERROR]   The project commons-lang:commons-lang:2.4 (/bugs/projects/Lang/pom.xml) has 1 error [ERROR]     Malformed POM /bugs/projects/Lang/pom.xml: Unrecognised tag: 'developer' (position: START_TAG seen ...&lt;/name&gt;\\n        &lt;developer&gt;... @159:20)  @ /bugs/projects/Lang/pom.xml, line 159, column 20 -&gt; [Help 2] [ERROR]  [ERROR] To see the full stack trace of the errors, re-run Maven with the -e switch. [ERROR] Re-run Maven using the -X switch to enable full debug logging. [ERROR]  [ERROR] For more information about the errors and possible solutions, please read the following articles: [ERROR] [Help 1] http://cwiki.apache.org/confluence/display/MAVEN/ProjectBuildingException [ERROR] [Help 2] http://cwiki.apache.org/confluence/display/MAVEN/ModelParseException</th>\n",
       "      <td>1</td>\n",
       "    </tr>\n",
       "    <tr>\n",
       "      <th>d4c0a77e40c21e7b2f846b4f8a26deeb</th>\n",
       "      <th>error: as of release 5, 'enum' is a keyword, and may not be used as an identifier [ERROR]</th>\n",
       "      <td>1</td>\n",
       "    </tr>\n",
       "  </tbody>\n",
       "</table>\n",
       "</div>"
      ],
      "text/plain": [
       "                                                                                     count\n",
       "key                              trace                                                    \n",
       "25fe7d356a79255e6eb2a6bca03a5f19 there is no POM in this directory                    1524\n",
       "88285ac47cdb7e113b1700f6cd0d94d5 error: as of release 5, 'enum' is a keyword, an...    109\n",
       "e7085f728993a692444fe313543c4cf8 error: cannot find symbol [ERROR]                      20\n",
       "1b547b59cce8170360f7b25b254cde67 Non-resolvable parent POM                               5\n",
       "312e7e051d00442fdf088e171c481c7f error: incompatible types [ERROR] -> [Help 1]           2\n",
       "6647b25369208cc6c48dd771f3d78b0b error: IDKey is not public in org.apache.common...      2\n",
       "a17786c3607dbaaee9f01618604fb6d2 error: variable options might not have been ini...      2\n",
       "e36f2da2fd1c72697920f95833010bb0 error: cannot find symbol [ERROR] -> [Help 1]           2\n",
       "00d85ec1281dd9783b78706534db449e error: reached end of file while parsing [ERROR...      1\n",
       "0d6862c3387dae1ba0a463bb424bbd93 [INFO] Scanning for projects... [ERROR] The bui...      1\n",
       "260e3e29e7b2adfb327e5c2a5db5a480 error: incomparable types: int and <null> [ERROR]       1\n",
       "3e81007975999a8cfc8705c049c2f71e error: package org.apache.commons.collections.c...      1\n",
       "418e94129a0ab79bcf41adea7b89e4e7 error: cannot find symbol [INFO] 1 error                1\n",
       "46f8db213cd278616ea61ec0bb0aa134 [INFO] Scanning for projects... [ERROR] The bui...      1\n",
       "d4c0a77e40c21e7b2f846b4f8a26deeb error: as of release 5, 'enum' is a keyword, an...      1"
      ]
     },
     "execution_count": 9,
     "metadata": {},
     "output_type": "execute_result"
    }
   ],
   "source": [
    "df = pd.DataFrame.from_dict(errors, orient='index')\n",
    "df=df.groupby(['key','trace']).agg({'count': 'sum'}).sort_values(by=['count'], ascending=False)\n",
    "df.to_csv(\"%s_errors.csv\"%pa.project, sep='\\t', encoding='utf-8')\n",
    "df"
   ]
  },
  {
   "cell_type": "code",
   "execution_count": 10,
   "metadata": {},
   "outputs": [
    {
     "name": "stdout",
     "output_type": "stream",
     "text": [
      "Total commits: 1 | Current commit: c28366d8 | Log: \n",
      "\n",
      "[INFO] Scanning for projects...\n",
      "[WARNING] \n",
      "[WARNING] Some problems were encountered while building the effective model for org.apache.commons:commons-lang3:jar:3.0.1\n",
      "[WARNING] 'build.plugins.plugin.version' for org.apache.maven.plugins:maven-idea-plugin is missing. @ org.apache.commons:commons-parent:21, /root/.m2/repository/org/apache/commons/commons-parent/21/commons-parent-21.pom, line 325, column 15\n",
      "[WARNING] \n",
      "[WARNING] It is highly recommended to fix these problems because they threaten the stability of your build.\n",
      "[WARNING] \n",
      "[WARNING] For this reason, future Maven versions might no longer support building such malformed projects.\n",
      "[WARNING] \n",
      "[INFO]                                                                         \n",
      "[INFO] ------------------------------------------------------------------------\n",
      "[INFO] Building Commons Lang 3.0.1\n",
      "[INFO] ------------------------------------------------------------------------\n",
      "[INFO] \n",
      "[INFO] --- maven-antrun-plugin:1.5:run (javadoc.resources) @ commons-lang3 ---\n",
      "[INFO] Executing tasks\n",
      "\n",
      "main:\n",
      "     [copy] Copying 2 files to /bugs/projects/Lang/target/apidocs/META-INF\n",
      "[INFO] Executed tasks\n",
      "[INFO] \n",
      "[INFO] --- maven-remote-resources-plugin:1.1:process (default) @ commons-lang3 ---\n",
      "[INFO] Setting property: classpath.resource.loader.class => 'org.codehaus.plexus.velocity.ContextClassLoaderResourceLoader'.\n",
      "[INFO] Setting property: velocimacro.messages.on => 'false'.\n",
      "[INFO] Setting property: resource.loader => 'classpath'.\n",
      "[INFO] Setting property: resource.manager.logwhenfound => 'false'.\n",
      "[INFO] \n",
      "[INFO] --- maven-resources-plugin:2.4.1:resources (default-resources) @ commons-lang3 ---\n",
      "[INFO] Using 'ISO-8859-1' encoding to copy filtered resources.\n",
      "[INFO] Copying 2 resources to META-INF\n",
      "[INFO] \n",
      "[INFO] --- maven-compiler-plugin:2.1:compile (default-compile) @ commons-lang3 ---\n",
      "[INFO] Compiling 100 source files to /bugs/projects/Lang/target/classes\n",
      "[INFO] -------------------------------------------------------------\n",
      "[ERROR] COMPILATION ERROR : \n",
      "[INFO] -------------------------------------------------------------\n",
      "[ERROR] /bugs/projects/Lang/src/main/java/org/apache/commons/lang3/compare/ComparatorUtils.java:[22,49] error: package org.apache.commons.collections.comparators does not exist\n",
      "\n",
      "[ERROR] /bugs/projects/Lang/src/main/java/org/apache/commons/lang3/compare/ComparatorUtils.java:[23,49] error: package org.apache.commons.collections.comparators does not exist\n",
      "\n",
      "[ERROR] /bugs/projects/Lang/src/main/java/org/apache/commons/lang3/compare/ComparatorUtils.java:[24,49] error: package org.apache.commons.collections.comparators does not exist\n",
      "\n",
      "[ERROR] /bugs/projects/Lang/src/main/java/org/apache/commons/lang3/compare/ComparatorUtils.java:[25,49] error: package org.apache.commons.collections.comparators does not exist\n",
      "\n",
      "[ERROR] /bugs/projects/Lang/src/main/java/org/apache/commons/lang3/compare/ComparatorUtils.java:[26,49] error: package org.apache.commons.collections.comparators does not exist\n",
      "\n",
      "[ERROR] /bugs/projects/Lang/src/main/java/org/apache/commons/lang3/compare/ComparatorUtils.java:[27,49] error: package org.apache.commons.collections.comparators does not exist\n",
      "\n",
      "[ERROR] /bugs/projects/Lang/src/main/java/org/apache/commons/lang3/compare/ComparatorUtils.java:[202,84] error: cannot find symbol\n",
      "\n",
      "[ERROR]  class ComparatorUtils\n",
      "/bugs/projects/Lang/src/main/java/org/apache/commons/lang3/compare/ComparatorUtils.java:[58,56] error: cannot find symbol\n",
      "\n",
      "[ERROR]  class ComparatorUtils\n",
      "/bugs/projects/Lang/src/main/java/org/apache/commons/lang3/compare/ComparatorUtils.java:[96,8] error: cannot find symbol\n",
      "\n",
      "[ERROR]  class ComparatorUtils\n",
      "/bugs/projects/Lang/src/main/java/org/apache/commons/lang3/compare/ComparatorUtils.java:[96,39] error: cannot find symbol\n",
      "\n",
      "[ERROR]  class ComparatorUtils\n",
      "/bugs/projects/Lang/src/main/java/org/apache/commons/lang3/compare/ComparatorUtils.java:[132,19] error: cannot find symbol\n",
      "\n",
      "[ERROR]  class ComparatorUtils\n",
      "/bugs/projects/Lang/src/main/java/org/apache/commons/lang3/compare/ComparatorUtils.java:[148,15] error: cannot find symbol\n",
      "\n",
      "[ERROR]  class ComparatorUtils\n",
      "/bugs/projects/Lang/src/main/java/org/apache/commons/lang3/compare/ComparatorUtils.java:[167,19] error: cannot find symbol\n",
      "\n",
      "[ERROR]  class ComparatorUtils\n",
      "/bugs/projects/Lang/src/main/java/org/apache/commons/lang3/compare/ComparatorUtils.java:[186,19] error: cannot find symbol\n",
      "\n",
      "[ERROR]  class ComparatorUtils\n",
      "/bugs/projects/Lang/src/main/java/org/apache/commons/lang3/compare/ComparatorUtils.java:[206,19] error: cannot find symbol\n",
      "\n",
      "[INFO] 15 errors \n",
      "[INFO] -------------------------------------------------------------\n",
      "[INFO] ------------------------------------------------------------------------\n",
      "[INFO] BUILD FAILURE\n",
      "[INFO] ------------------------------------------------------------------------\n",
      "[INFO] Total time: 2.831s\n",
      "[INFO] Finished at: Tue Mar 26 11:05:44 UTC 2019\n",
      "[INFO] Final Memory: 14M/239M\n",
      "[INFO] ------------------------------------------------------------------------\n",
      "[ERROR] Failed to execute goal org.apache.maven.plugins:maven-compiler-plugin:2.1:compile (default-compile) on project commons-lang3: Compilation failure: Compilation failure:\n",
      "[ERROR] /bugs/projects/Lang/src/main/java/org/apache/commons/lang3/compare/ComparatorUtils.java:[22,49] error: package org.apache.commons.collections.comparators does not exist\n",
      "[ERROR] \n",
      "[ERROR] /bugs/projects/Lang/src/main/java/org/apache/commons/lang3/compare/ComparatorUtils.java:[23,49] error: package org.apache.commons.collections.comparators does not exist\n",
      "[ERROR] \n",
      "[ERROR] /bugs/projects/Lang/src/main/java/org/apache/commons/lang3/compare/ComparatorUtils.java:[24,49] error: package org.apache.commons.collections.comparators does not exist\n",
      "[ERROR] \n",
      "[ERROR] /bugs/projects/Lang/src/main/java/org/apache/commons/lang3/compare/ComparatorUtils.java:[25,49] error: package org.apache.commons.collections.comparators does not exist\n",
      "[ERROR] \n",
      "[ERROR] /bugs/projects/Lang/src/main/java/org/apache/commons/lang3/compare/ComparatorUtils.java:[26,49] error: package org.apache.commons.collections.comparators does not exist\n",
      "[ERROR] \n",
      "[ERROR] /bugs/projects/Lang/src/main/java/org/apache/commons/lang3/compare/ComparatorUtils.java:[27,49] error: package org.apache.commons.collections.comparators does not exist\n",
      "[ERROR] \n",
      "[ERROR] /bugs/projects/Lang/src/main/java/org/apache/commons/lang3/compare/ComparatorUtils.java:[202,84] error: cannot find symbol\n",
      "[ERROR] \n",
      "[ERROR] class ComparatorUtils\n",
      "[ERROR] /bugs/projects/Lang/src/main/java/org/apache/commons/lang3/compare/ComparatorUtils.java:[58,56] error: cannot find symbol\n",
      "[ERROR] \n",
      "[ERROR] class ComparatorUtils\n",
      "[ERROR] /bugs/projects/Lang/src/main/java/org/apache/commons/lang3/compare/ComparatorUtils.java:[96,8] error: cannot find symbol\n",
      "[ERROR] \n",
      "[ERROR] class ComparatorUtils\n",
      "[ERROR] /bugs/projects/Lang/src/main/java/org/apache/commons/lang3/compare/ComparatorUtils.java:[96,39] error: cannot find symbol\n",
      "[ERROR] \n",
      "[ERROR] class ComparatorUtils\n",
      "[ERROR] /bugs/projects/Lang/src/main/java/org/apache/commons/lang3/compare/ComparatorUtils.java:[132,19] error: cannot find symbol\n",
      "[ERROR] \n",
      "[ERROR] class ComparatorUtils\n",
      "[ERROR] /bugs/projects/Lang/src/main/java/org/apache/commons/lang3/compare/ComparatorUtils.java:[148,15] error: cannot find symbol\n",
      "[ERROR] \n",
      "[ERROR] class ComparatorUtils\n",
      "[ERROR] /bugs/projects/Lang/src/main/java/org/apache/commons/lang3/compare/ComparatorUtils.java:[167,19] error: cannot find symbol\n",
      "[ERROR] \n",
      "[ERROR] class ComparatorUtils\n",
      "[ERROR] /bugs/projects/Lang/src/main/java/org/apache/commons/lang3/compare/ComparatorUtils.java:[186,19] error: cannot find symbol\n",
      "[ERROR] \n",
      "[ERROR] class ComparatorUtils\n",
      "[ERROR] /bugs/projects/Lang/src/main/java/org/apache/commons/lang3/compare/ComparatorUtils.java:[206,19] error: cannot find symbol\n",
      "[ERROR] -> [Help 1]\n",
      "[ERROR] \n",
      "[ERROR] To see the full stack trace of the errors, re-run Maven with the -e switch.\n",
      "[ERROR] Re-run Maven using the -X switch to enable full debug logging.\n",
      "[ERROR] \n",
      "[ERROR] For more information about the errors and possible solutions, please read the following articles:\n",
      "[ERROR] [Help 1] http://cwiki.apache.org/confluence/display/MAVEN/MojoFailureException\n",
      " \n"
     ]
    }
   ],
   "source": [
    "pa.view_log_by_hash(errors,'3e81007975999a8cfc8705c049c2f71e', 0)"
   ]
  },
  {
   "cell_type": "code",
   "execution_count": 11,
   "metadata": {},
   "outputs": [
    {
     "name": "stdout",
     "output_type": "stream",
     "text": [
      "Saved at '../Lang/experiment_1/success_commits.txt'\n"
     ]
    }
   ],
   "source": [
    "pa.save_success_commits()"
   ]
  }
 ],
 "metadata": {
  "kernelspec": {
   "display_name": "Python 3",
   "language": "python",
   "name": "python3"
  },
  "language_info": {
   "codemirror_mode": {
    "name": "ipython",
    "version": 3
   },
   "file_extension": ".py",
   "mimetype": "text/x-python",
   "name": "python",
   "nbconvert_exporter": "python",
   "pygments_lexer": "ipython3",
   "version": "3.6.2"
  }
 },
 "nbformat": 4,
 "nbformat_minor": 2
}
